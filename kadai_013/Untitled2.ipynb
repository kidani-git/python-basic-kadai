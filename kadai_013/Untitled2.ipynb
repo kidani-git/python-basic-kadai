{
  "nbformat": 4,
  "nbformat_minor": 0,
  "metadata": {
    "colab": {
      "provenance": []
    },
    "kernelspec": {
      "name": "python3",
      "display_name": "Python 3"
    },
    "language_info": {
      "name": "python"
    }
  },
  "cells": [
    {
      "cell_type": "code",
      "source": [
        "def calculate_total(price,tax):\n",
        "  total = price * tax\n",
        "  print(f\"{total}円\")\n",
        "calculate_total(500,1.1)"
      ],
      "metadata": {
        "colab": {
          "base_uri": "https://localhost:8080/"
        },
        "id": "9CGIrlumJOhA",
        "outputId": "c4c57016-90d3-44bf-d8b9-ca257f8d9c89"
      },
      "execution_count": 7,
      "outputs": [
        {
          "output_type": "stream",
          "name": "stdout",
          "text": [
            "550.0円\n"
          ]
        }
      ]
    }
  ]
}