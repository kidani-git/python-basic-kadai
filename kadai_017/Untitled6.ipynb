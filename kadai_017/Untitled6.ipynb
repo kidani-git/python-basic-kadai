{
  "nbformat": 4,
  "nbformat_minor": 0,
  "metadata": {
    "colab": {
      "provenance": []
    },
    "kernelspec": {
      "name": "python3",
      "display_name": "Python 3"
    },
    "language_info": {
      "name": "python"
    }
  },
  "cells": [
    {
      "cell_type": "code",
      "execution_count": 1,
      "metadata": {
        "colab": {
          "base_uri": "https://localhost:8080/"
        },
        "id": "kjZUpo8O5apG",
        "outputId": "73d3c79d-fd3e-4d91-ecec-f07c5d47742b"
      },
      "outputs": [
        {
          "output_type": "stream",
          "name": "stdout",
          "text": [
            "太郎は大人です。\n",
            "次郎は大人です。\n",
            "三郎は大人です。\n",
            "士郎は大人ではありません。\n",
            "吾郎は大人ではありません。\n"
          ]
        }
      ],
      "source": [
        "class Human:\n",
        "  def __init__(self,name,age):\n",
        "    self.name = name\n",
        "    self.age = age\n",
        "\n",
        "  def check_adult(self):\n",
        "    if self.age >= 20:\n",
        "      print(f\"{self.name}は大人です。\")\n",
        "    else:\n",
        "      print(f\"{self.name}は大人ではありません。\")\n",
        "\n",
        "people = [\n",
        "    Human(\"太郎\",25),\n",
        "    Human(\"次郎\",22),\n",
        "    Human(\"三郎\",20),\n",
        "    Human(\"士郎\",19),\n",
        "    Human(\"吾郎\",15),\n",
        "]\n",
        "\n",
        "for person in people:\n",
        "  person.check_adult()"
      ]
    }
  ]
}