{
  "nbformat": 4,
  "nbformat_minor": 0,
  "metadata": {
    "colab": {
      "provenance": []
    },
    "kernelspec": {
      "name": "python3",
      "display_name": "Python 3"
    },
    "language_info": {
      "name": "python"
    }
  },
  "cells": [
    {
      "cell_type": "code",
      "execution_count": 4,
      "metadata": {
        "colab": {
          "base_uri": "https://localhost:8080/"
        },
        "id": "Alse_iJLrGao",
        "outputId": "c9e9cdeb-4bc9-4ffc-f330-7fe2eeacf19f"
      },
      "outputs": [
        {
          "output_type": "stream",
          "name": "stdout",
          "text": [
            "75.0㎠\n"
          ]
        }
      ],
      "source": [
        "upper_side=10\n",
        "bottom_side=20\n",
        "height=5\n",
        "area=(upper_side+bottom_side)*height/2\n",
        "print(f\"{area}㎠\")"
      ]
    }
  ]
}